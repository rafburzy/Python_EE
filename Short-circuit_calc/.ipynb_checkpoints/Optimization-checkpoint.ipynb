{
 "cells": [
  {
   "cell_type": "markdown",
   "metadata": {},
   "source": [
    "## Finiding a value at which a function is zero"
   ]
  },
  {
   "cell_type": "code",
   "execution_count": 1,
   "metadata": {
    "collapsed": true
   },
   "outputs": [],
   "source": [
    "import numpy as np\n",
    "from scipy.optimize import minimize, minimize_scalar, newton"
   ]
  },
  {
   "cell_type": "markdown",
   "metadata": {},
   "source": [
    "<img src='formula.png'>"
   ]
  },
  {
   "cell_type": "code",
   "execution_count": 2,
   "metadata": {
    "collapsed": true
   },
   "outputs": [],
   "source": [
    "# assuming currents \n",
    "I1 = 1000\n",
    "I2 = 1000\n",
    "\n",
    "# bars dimensions\n",
    "b1 = 25.4e-3\n",
    "a1 = 0.25*25.4e-3\n",
    "b2 = 25e-3\n",
    "a2 = 6e-3\n",
    "\n",
    "# temperatures\n",
    "T1 = 84.9\n",
    "Ta = 50\n",
    "\n",
    "# temperature resistance change coeff\n",
    "alpha = 3.9e-3\n",
    "\n",
    "def f(x):\n",
    "    return np.sqrt((2*b1 + 2*a1)/(2*b2+2*a2)) * ((T1-Ta)/(x-Ta))**0.61 \\\n",
    "* np.sqrt((a1*b1*(1+alpha*(x-20)))/(a2*b2*(1+alpha*(T1-20)))) - I1/I2"
   ]
  },
  {
   "cell_type": "markdown",
   "metadata": {},
   "source": [
    "#### Trying to use minimize_scalar function"
   ]
  },
  {
   "cell_type": "code",
   "execution_count": 3,
   "metadata": {
    "collapsed": true
   },
   "outputs": [],
   "source": [
    "result = minimize_scalar(f)"
   ]
  },
  {
   "cell_type": "code",
   "execution_count": 4,
   "metadata": {},
   "outputs": [
    {
     "data": {
      "text/plain": [
       "True"
      ]
     },
     "execution_count": 4,
     "metadata": {},
     "output_type": "execute_result"
    }
   ],
   "source": [
    "result.success"
   ]
  },
  {
   "cell_type": "code",
   "execution_count": 5,
   "metadata": {},
   "outputs": [
    {
     "data": {
      "text/plain": [
       "49.999999988366476"
      ]
     },
     "execution_count": 5,
     "metadata": {},
     "output_type": "execute_result"
    }
   ],
   "source": [
    "T2 = result.x\n",
    "T2"
   ]
  },
  {
   "cell_type": "code",
   "execution_count": 6,
   "metadata": {},
   "outputs": [
    {
     "data": {
      "text/plain": [
       "(-202715.36714150239+563060.81555927359j)"
      ]
     },
     "execution_count": 6,
     "metadata": {},
     "output_type": "execute_result"
    }
   ],
   "source": [
    "f(T2)"
   ]
  },
  {
   "cell_type": "markdown",
   "metadata": {},
   "source": [
    "The result above is a really strange result. Most probably some constaints are missing."
   ]
  },
  {
   "cell_type": "markdown",
   "metadata": {},
   "source": [
    "#### Trying to use Newton method"
   ]
  },
  {
   "cell_type": "code",
   "execution_count": 7,
   "metadata": {
    "collapsed": true
   },
   "outputs": [],
   "source": [
    "# Newton method used to find zero; x0 is a starting point\n",
    "res = newton(f, x0=90)"
   ]
  },
  {
   "cell_type": "code",
   "execution_count": 8,
   "metadata": {},
   "outputs": [
    {
     "data": {
      "text/plain": [
       "88.077777089701527"
      ]
     },
     "execution_count": 8,
     "metadata": {},
     "output_type": "execute_result"
    }
   ],
   "source": [
    "res"
   ]
  },
  {
   "cell_type": "code",
   "execution_count": 9,
   "metadata": {},
   "outputs": [
    {
     "data": {
      "text/plain": [
       "0.0"
      ]
     },
     "execution_count": 9,
     "metadata": {},
     "output_type": "execute_result"
    }
   ],
   "source": [
    "f(res)"
   ]
  },
  {
   "cell_type": "code",
   "execution_count": 10,
   "metadata": {},
   "outputs": [
    {
     "data": {
      "text/plain": [
       "0.00061994046218716292"
      ]
     },
     "execution_count": 10,
     "metadata": {},
     "output_type": "execute_result"
    }
   ],
   "source": [
    "# Excel goal seek result\n",
    "f(88.035)"
   ]
  },
  {
   "cell_type": "markdown",
   "metadata": {
    "collapsed": true
   },
   "source": [
    "#### Trying approach with the function"
   ]
  },
  {
   "cell_type": "code",
   "execution_count": 11,
   "metadata": {
    "collapsed": true
   },
   "outputs": [],
   "source": [
    "def findTemperature(I1, I2, a1, b1, a2, b2, T1, Ta, T20):\n",
    "    \"\"\"Function used to calculate the temperature of a bar in the new conditions.\n",
    "    \n",
    "    Inputs\n",
    "    ---------------\n",
    "    I1: float\n",
    "        Tested current in Amps\n",
    "    I2: float\n",
    "        New current value in Amps\n",
    "    a1: float\n",
    "        Tested bar thickness in meters\n",
    "    b1: float\n",
    "        Tested bar width in meters\n",
    "    a2: float\n",
    "        New bar thickness in meters\n",
    "    b2: float\n",
    "        New bar width in meters\n",
    "    T1: float\n",
    "        Absolute temperature of a tested bar in deg C\n",
    "    Ta: float\n",
    "        Ambient temperature in deg C\n",
    "    T20: float\n",
    "        initial value of the calculated temperature in deg C\n",
    "        starting point for the Newton method\n",
    "    \n",
    "    Returns\n",
    "    -----------------\n",
    "    T2: float\n",
    "        Absolute temperature of a bar in new conditions in deg C\"\"\"\n",
    "    \n",
    "    # temperature resistance change coeff\n",
    "    alpha = 3.9e-3\n",
    "\n",
    "    def f(x):\n",
    "        return np.sqrt((2*b1 + 2*a1)/(2*b2+2*a2)) * ((T1-Ta)/(x-Ta))**0.61 \\\n",
    "    * np.sqrt((a1*b1*(1+alpha*(x-20)))/(a2*b2*(1+alpha*(T1-20)))) - I1/I2\n",
    "    \n",
    "    T2 = newton(f, x0=T20)\n",
    "    return T2"
   ]
  },
  {
   "cell_type": "code",
   "execution_count": 12,
   "metadata": {
    "collapsed": true
   },
   "outputs": [],
   "source": [
    "T2 = findTemperature(I1=1000, I2=1000, b1 = 25.4e-3, a1 = 0.25*25.4e-3, b2 = 25e-3, a2 = 6e-3, T1=84.9, Ta=50, T20=90)"
   ]
  },
  {
   "cell_type": "code",
   "execution_count": 13,
   "metadata": {},
   "outputs": [
    {
     "data": {
      "text/plain": [
       "88.077777089701527"
      ]
     },
     "execution_count": 13,
     "metadata": {},
     "output_type": "execute_result"
    }
   ],
   "source": [
    "T2"
   ]
  },
  {
   "cell_type": "code",
   "execution_count": 14,
   "metadata": {},
   "outputs": [
    {
     "data": {
      "text/plain": [
       "75.574979923285781"
      ]
     },
     "execution_count": 14,
     "metadata": {},
     "output_type": "execute_result"
    }
   ],
   "source": [
    "T22 = findTemperature(I1=1000, I2=800, b1 = 25.4e-3, a1 = 0.25*25.4e-3, b2 = 25e-3, a2 = 6e-3, T1=84.9, Ta=50, T20=90)\n",
    "T22"
   ]
  },
  {
   "cell_type": "code",
   "execution_count": 15,
   "metadata": {},
   "outputs": [
    {
     "data": {
      "text/plain": [
       "132.16715870829645"
      ]
     },
     "execution_count": 15,
     "metadata": {},
     "output_type": "execute_result"
    }
   ],
   "source": [
    "T23 = findTemperature(I1=1000, I2=1500, b1 = 25.4e-3, a1 = 0.25*25.4e-3, b2 = 25e-3, a2 = 6e-3, T1=84.9, Ta=50, T20=90)\n",
    "T23"
   ]
  },
  {
   "cell_type": "code",
   "execution_count": null,
   "metadata": {
    "collapsed": true
   },
   "outputs": [],
   "source": []
  }
 ],
 "metadata": {
  "kernelspec": {
   "display_name": "Python 3",
   "language": "python",
   "name": "python3"
  },
  "language_info": {
   "codemirror_mode": {
    "name": "ipython",
    "version": 3
   },
   "file_extension": ".py",
   "mimetype": "text/x-python",
   "name": "python",
   "nbconvert_exporter": "python",
   "pygments_lexer": "ipython3",
   "version": "3.6.0"
  }
 },
 "nbformat": 4,
 "nbformat_minor": 2
}
