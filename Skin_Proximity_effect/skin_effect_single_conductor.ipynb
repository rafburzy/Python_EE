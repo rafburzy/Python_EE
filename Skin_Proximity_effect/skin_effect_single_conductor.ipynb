{
 "cells": [
  {
   "cell_type": "markdown",
   "metadata": {
    "slideshow": {
     "slide_type": "slide"
    }
   },
   "source": [
    "# Skin effect for the single long copper conductor\n",
    "\n",
    "### Theoretical background\n",
    "\n",
    "Based on Maxwell equations for quasi-stationary fields (sinusoidal currents and voltages) one can derive the following formulas:\n",
    "\n",
    "$\\mathrm{rot} \\mathbf{\\overline{\\underline{H}}} = \\mathbf{\\overline{\\underline{J}}}$ (1) <br><br>\n",
    "$\\mathbf{\\overline{\\underline{J}}} = \\gamma \\cdot \\mathbf{\\overline{\\underline{E}}}$ (2) <br><br>\n",
    "$\\mathrm{rot} \\mathbf{\\overline{\\underline{H}}} = \\gamma \\cdot \\mathbf{\\overline{\\underline{E}}}$ (3) <br><br>\n",
    "$\\mathrm{rot} \\mathbf{\\overline{\\underline{E}}} = - \\dfrac{\\partial \\mathbf{\\overline{\\underline{B}}}} {\\partial t} = -j \\omega \\mathbf{\\overline{\\underline{B}}} $ (quasi-stationary field) (4) \n",
    "\n",
    "Performing rotation on both sides of equation (3):\n",
    "\n",
    "$\\mathrm{rot} (\\mathrm{rot}\\mathbf{\\overline{\\underline{H}}}) = \\gamma \\cdot \\mathrm{rot}\\mathbf{\\overline{\\underline{E}}}$ (5) <br><br>\n",
    "$\\mathrm{grad} (\\mathrm{div} \\mathbf{\\overline{\\underline{H}}}) - \\nabla^2 \\mathbf{\\overline{\\underline{H}}} = -j \\gamma \\omega \\mathbf{\\overline{\\underline{B}}}$ (6) <br><br>\n",
    "    \n",
    "\n",
    "remembering that:\n",
    "\n",
    "$\\mathbf{\\overline{\\underline{B}}} = \\mu \\mathbf{\\overline{\\underline{H}}} $ (7) <br><br>\n",
    "$\\mathrm{div} \\mathbf{\\overline{\\underline{B}}} = \\mathrm{div} \\mathbf{\\overline{\\underline{H}}} = 0 $ (8) <br><br>\n",
    "\n",
    "We get:\n",
    "\n",
    "$\\nabla^2 \\mathbf{\\overline{\\underline{H}}} = j \\gamma \\omega \\mu \\mathbf{\\overline{\\underline{H}}} $ (9) <br><br>\n",
    "    \n",
    "Defining k as:\n",
    "\n",
    "$k = \\sqrt{j \\gamma \\omega \\mu } $ (10) <br><br>\n",
    "    \n",
    "The final equation takes form known as Helmholtz equation:\n",
    "\n",
    "$\\nabla^2 \\mathbf{\\overline{\\underline{H}}} = k^2 \\mathbf{\\overline{\\underline{H}}}$ (11)\n",
    "\n",
    "    \n",
    "### Assumptions\n",
    "\n",
    "The conductor in the analyzed case can be represented as:\n",
    "\n",
    "<img src=\"conductor1.jpg\"><br>\n",
    "\n",
    "Assumptions based on this very case are the following:\n",
    "\n",
    "<li>The conductor is very long, which means that d/dz = 0.</li>\n",
    "<li>Conductor width a is much smaller than its height b, which means d/dy = 0.</li>\n",
    "<li>Current flows in the direction of the axis z.</li>\n",
    "\n",
    "The specific solution of the Helmholtz equation in such case can be written with the following equation:\n",
    "\n",
    "$\\mathbf{\\underline{H(x)}} = \\mathrm{A}e^{kx} + \\mathrm{B}e^{-kx} $ (12)<br><br>\n",
    "\n",
    "Coefficients A and B can be obtained from the boundary conditions."
   ]
  },
  {
   "cell_type": "markdown",
   "metadata": {
    "slideshow": {
     "slide_type": "slide"
    }
   },
   "source": [
    "### Boundary conditions\n",
    "\n",
    "The red lines on the picture below represent the lines the magnetic field. The red arrows show the direction of the field.\n",
    "\n",
    "<img src=\"conductor2.jpg\">\n",
    "\n",
    "One can see that the first boundary condition can be written as:\n",
    "\n",
    "$\\mathbf{\\underline{H}} \\left( \\frac{-a}{2} \\right) = - \\mathbf{\\underline{H}} \\left( \\frac{a}{2}\\right)$ <br><br>\n",
    "\n",
    "Using equation 12, one gets:\n",
    "\n",
    "$\\mathrm{A}e^{-k\\frac{a}{2}} + \\mathrm{B}e^{k\\frac{a}{2}}= \\mathrm{-A}e^{k\\frac{a}{2}} - \\mathrm{B}e^{-k\\frac{a}{2}}$ <br><br>\n",
    "\n",
    "After cleaning up the equation can be rewritten as:\n",
    "\n",
    "$\\mathrm{A}\\left(e^{-k\\frac{a}{2}} + e^{k\\frac{a}{2}}\\right)= \\mathrm{-B}\\left(e^{-k\\frac{a}{2}} + e^{k\\frac{a}{2}}\\right)$ <br><br>\n",
    "\n",
    "which in the end gives:\n",
    "\n",
    "$\\mathrm{A} = \\mathrm{-B}$ (13)<br><br>\n",
    "\n",
    "Adding 13 to 12 gives:\n",
    "\n",
    "$\\mathbf{\\underline{H(x)}} = \\mathrm{A}\\left(e^{kx} - e^{-kx} \\right) $ <br>\n",
    "\n",
    "Rembering that :\n",
    "\n",
    "$\\sinh{(x)} = \\frac{e^{x} - e^{-x}} {2}$ <br>\n",
    "\n",
    "We finally get:\n",
    "\n",
    "$\\mathbf{\\underline{H(x)}} = 2\\mathrm{A}\\sinh{(kx)}$ (14) <br><br>\n",
    "\n",
    "The second boundary condition can be written that at x = a/2 the magnetic field has a specific value:\n",
    "\n",
    "$ \\mathbf{\\underline{H}} \\left( \\frac{a}{2}\\right) = \\mathbf{H_0}$ (15) <br><br>\n",
    "\n",
    "Using Ampere's law we can write:\n",
    "\n",
    "$ \\oint_l \\mathbf{\\overline{\\underline{H}}} \\circ \\overline{dl} = \\underline{I} = H_0 \\cdot 2b$ (16)<br><br>\n",
    "where:<br>\n",
    "$\\underline{I}$ is a current flowing through the conductor <br>\n",
    "$H_0$ is magnetic field intensity value at the surface of the conductor at x=a/2\n",
    "\n",
    "Knowing that one can rewrite equation 15 to:\n",
    "\n",
    "$ \\mathbf{\\underline{H}} \\left( \\frac{a}{2}\\right) = \\mathbf{H_0} = \\frac{\\underline{I}}{2b} = 2\\mathrm{A}\\sinh{\\left(k \\frac{a}{2} \\right)}$ <br><br>\n",
    "\n",
    "which finally gives:\n",
    "\n",
    "$\\mathrm{A} = \\frac{\\underline{\\displaystyle I}}{\\displaystyle 4b \\sinh{\\left(k\\frac{a}{2}\\right)}}$ (17) <br><br>\n",
    "\n",
    "and which leads to:\n",
    "\n",
    "$\\mathbf{\\underline{H(x)}} = \\frac{\\underline{\\displaystyle I}}{\\displaystyle 2b} \\frac{\\displaystyle \\sinh{(kx)}}{ \\displaystyle \\sinh{\\left(k \\frac{a}{2}\\right)}}$ (18) <br><br>\n",
    "\n",
    "Remembering (1):\n",
    "\n",
    "$\\mathrm{rot} \\mathbf{\\overline{\\underline{H}}} = \\mathbf{\\overline{\\underline{J}}} = \\overline{1_z} \\frac{ \\partial{\\mathbf{\\underline{\\displaystyle H(x)}}}}{\\partial{\\displaystyle t}}$ <br><br>\n",
    "\n",
    "We can obtain the formula for the current density:\n",
    "\n",
    "$\\mathbf{\\underline{J(x)}} = \n",
    "\\frac{\\displaystyle k}{\\displaystyle 2b} \\underline{I} \\frac{\\displaystyle \\cosh{(kx)}}{\\displaystyle \\sinh{\\left(k \\frac{a}{2} \\right)}}$ (19)\n"
   ]
  },
  {
   "cell_type": "code",
   "execution_count": 31,
   "metadata": {
    "collapsed": false,
    "slideshow": {
     "slide_type": "slide"
    }
   },
   "outputs": [],
   "source": [
    "#importing all required modules\n",
    "#important otherwise pop-up window may not work\n",
    "%matplotlib inline \n",
    "import numpy as np\n",
    "import scipy as sp\n",
    "import matplotlib as mpl\n",
    "import matplotlib.pyplot as plt\n",
    "import math\n",
    "import cmath\n",
    "import seaborn"
   ]
  },
  {
   "cell_type": "code",
   "execution_count": 32,
   "metadata": {
    "collapsed": false,
    "slideshow": {
     "slide_type": "slide"
    }
   },
   "outputs": [],
   "source": [
    "#Defining conductor dimensions [mm]\n",
    "a = 10\n",
    "b = 100\n",
    "\n",
    "a = a/1000\n",
    "b = b/1000\n",
    "\n",
    "#Conductor material properties\n",
    "gamma = 58*10**6\n",
    "u = 4*math.pi*10**-7\n",
    "\n",
    "#frequency \n",
    "f = 50\n",
    "omega = 2*math.pi*f\n",
    "\n",
    "#skin depth\n",
    "delta = math.sqrt(2/(omega*gamma*u))\n",
    "\n",
    "#parameter k\n",
    "k = cmath.sqrt(1j*omega*u*gamma)\n",
    "\n",
    "#Current flowing through conductor [A]\n",
    "I = 1000\n",
    "\n",
    "#defining x\n",
    "x = np.linspace(-a/2, a/2, 20)\n",
    "\n",
    "#Current density [A/mm2]\n",
    "J = [k/(2*b)*I*cmath.cosh(k*w)/cmath.sinh(k*a/2)/10**6 for w in x]"
   ]
  },
  {
   "cell_type": "code",
   "execution_count": 46,
   "metadata": {
    "collapsed": false,
    "slideshow": {
     "slide_type": "slide"
    }
   },
   "outputs": [
    {
     "data": {
      "image/png": "[encoded data removed]",
      "text/plain": [
       "<matplotlib.figure.Figure at 0x10bcc82b0>"
      ]
     },
     "metadata": {},
     "output_type": "display_data"
    }
   ],
   "source": [
    "#definition of module of current density J (otherwise only real component will be plotted)\n",
    "modJ = [abs(J[i]) for i in range(0, len(J))]\n",
    "rJ = [J[i].real for i in range(0, len(J))]\n",
    "iJ = [J[i].imag for i in range(0, len(J))]\n",
    "\n",
    "#plot preparation\n",
    "fig, ax = plt.subplots(2, figsize=(10,10))\n",
    "\n",
    "ax[0].plot(x*10**3,modJ, label=\"J [A/mm2]\", color = \"green\")\n",
    "ax[0].set_ylabel(\"Current density [A/mm2]\")\n",
    "ax[0].set_xlabel(\"Conductor width [mm]\")\n",
    "ax[0].set_title(\"Current density distribution along conductor width\")\n",
    "#ax.axis([-5, 5, 0.9, 1.3])\n",
    "ax[0].legend()\n",
    "ax[1].plot(x*10**3,rJ, label=\"Re{J} [A/mm2]\", color = \"red\")\n",
    "ax[1].plot(x*10**3,iJ, label=\"Im{J} [A/mm2]\", color = \"blue\")\n",
    "ax[1].set_ylabel(\"Current density [A/mm2]\")\n",
    "ax[1].set_xlabel(\"Conductor width [mm]\")\n",
    "ax[1].legend()\n",
    "plt.tight_layout()"
   ]
  },
  {
   "cell_type": "markdown",
   "metadata": {
    "slideshow": {
     "slide_type": "slide"
    }
   },
   "source": [
    "## Power loss calculation\n",
    "\n",
    "By definition power loss is given by the following formula:\n",
    "\n",
    "$P = \\int_{V} \\dfrac{J^2}{\\gamma} dV$\n",
    "\n",
    "By performing the integral one gets:\n",
    "\n",
    "$P = \\dfrac{lk^2}{4\\gamma b} I^2 \\dfrac{1}{sinh^2\\left(k\\dfrac{a}{2}\\right)}\\left(\\dfrac{1}{2k}\\sinh{(ka)}+\\dfrac{a}{2}\\right)$"
   ]
  },
  {
   "cell_type": "code",
   "execution_count": 34,
   "metadata": {
    "collapsed": false,
    "slideshow": {
     "slide_type": "slide"
    }
   },
   "outputs": [
    {
     "data": {
      "text/plain": [
       "(17.117004128257975, 17.24137931034483)"
      ]
     },
     "execution_count": 34,
     "metadata": {},
     "output_type": "execute_result"
    }
   ],
   "source": [
    "#conductor length [m]\n",
    "l = 1\n",
    "\n",
    "#Power loss for ac current\n",
    "P = l*k**2/(4*gamma*b)*I**2/(cmath.sinh(k*a/2))**2*(1/(2*k)*cmath.sinh(k*a)+a/2)\n",
    "\n",
    "#Power loss for dc current\n",
    "R = l/(gamma*a*b)\n",
    "P_dc = I**2*R\n",
    "\n",
    "abs(P), P_dc"
   ]
  },
  {
   "cell_type": "code",
   "execution_count": null,
   "metadata": {
    "collapsed": true
   },
   "outputs": [],
   "source": []
  }
 ],
 "metadata": {
  "celltoolbar": "Slideshow",
  "kernelspec": {
   "display_name": "Python 3",
   "language": "python",
   "name": "python3"
  },
  "language_info": {
   "codemirror_mode": {
    "name": "ipython",
    "version": 3
   },
   "file_extension": ".py",
   "mimetype": "text/x-python",
   "name": "python",
   "nbconvert_exporter": "python",
   "pygments_lexer": "ipython3",
   "version": "3.5.1"
  }
 },
 "nbformat": 4,
 "nbformat_minor": 0
}
