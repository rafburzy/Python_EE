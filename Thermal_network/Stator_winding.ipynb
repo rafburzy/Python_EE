{
 "cells": [
  {
   "cell_type": "markdown",
   "metadata": {},
   "source": [
    "## Estimation of the temperature of stator winding bar"
   ]
  },
  {
   "cell_type": "code",
   "execution_count": 1,
   "metadata": {
    "collapsed": true
   },
   "outputs": [],
   "source": [
    "import numpy as np\n",
    "import pandas as pd\n",
    "import matplotlib.pyplot as plt\n",
    "%matplotlib inline \n",
    "\n",
    "plt.style.use('ggplot')"
   ]
  },
  {
   "cell_type": "code",
   "execution_count": 2,
   "metadata": {},
   "outputs": [
    {
     "data": {
      "text/html": [
       "<div>\n",
       "<table border=\"1\" class=\"dataframe\">\n",
       "  <thead>\n",
       "    <tr style=\"text-align: right;\">\n",
       "      <th></th>\n",
       "      <th>t</th>\n",
       "      <th>u1</th>\n",
       "      <th>u2</th>\n",
       "      <th>u3</th>\n",
       "      <th>u4</th>\n",
       "      <th>u5</th>\n",
       "      <th>u6</th>\n",
       "      <th>u7</th>\n",
       "      <th>u8</th>\n",
       "      <th>u9</th>\n",
       "      <th>u10</th>\n",
       "      <th>u11</th>\n",
       "      <th>u12</th>\n",
       "    </tr>\n",
       "  </thead>\n",
       "  <tbody>\n",
       "    <tr>\n",
       "      <th>0</th>\n",
       "      <td>0</td>\n",
       "      <td>0.09</td>\n",
       "      <td>0.12</td>\n",
       "      <td>0.12</td>\n",
       "      <td>0.13</td>\n",
       "      <td>0.13</td>\n",
       "      <td>0.13</td>\n",
       "      <td>0.15</td>\n",
       "      <td>0.15</td>\n",
       "      <td>0.15</td>\n",
       "      <td>0.13</td>\n",
       "      <td>0.02</td>\n",
       "      <td>0.01</td>\n",
       "    </tr>\n",
       "    <tr>\n",
       "      <th>1</th>\n",
       "      <td>2</td>\n",
       "      <td>0.24</td>\n",
       "      <td>0.35</td>\n",
       "      <td>0.37</td>\n",
       "      <td>0.39</td>\n",
       "      <td>0.38</td>\n",
       "      <td>0.39</td>\n",
       "      <td>0.40</td>\n",
       "      <td>0.39</td>\n",
       "      <td>0.36</td>\n",
       "      <td>0.25</td>\n",
       "      <td>0.16</td>\n",
       "      <td>0.01</td>\n",
       "    </tr>\n",
       "    <tr>\n",
       "      <th>2</th>\n",
       "      <td>4</td>\n",
       "      <td>0.32</td>\n",
       "      <td>0.50</td>\n",
       "      <td>0.56</td>\n",
       "      <td>0.60</td>\n",
       "      <td>0.60</td>\n",
       "      <td>0.60</td>\n",
       "      <td>0.62</td>\n",
       "      <td>0.57</td>\n",
       "      <td>0.50</td>\n",
       "      <td>0.32</td>\n",
       "      <td>0.18</td>\n",
       "      <td>0.01</td>\n",
       "    </tr>\n",
       "    <tr>\n",
       "      <th>3</th>\n",
       "      <td>6</td>\n",
       "      <td>0.38</td>\n",
       "      <td>0.64</td>\n",
       "      <td>0.74</td>\n",
       "      <td>0.80</td>\n",
       "      <td>0.80</td>\n",
       "      <td>0.81</td>\n",
       "      <td>0.81</td>\n",
       "      <td>0.73</td>\n",
       "      <td>0.62</td>\n",
       "      <td>0.37</td>\n",
       "      <td>0.19</td>\n",
       "      <td>0.01</td>\n",
       "    </tr>\n",
       "    <tr>\n",
       "      <th>4</th>\n",
       "      <td>8</td>\n",
       "      <td>0.42</td>\n",
       "      <td>0.74</td>\n",
       "      <td>0.88</td>\n",
       "      <td>0.98</td>\n",
       "      <td>0.99</td>\n",
       "      <td>0.99</td>\n",
       "      <td>0.99</td>\n",
       "      <td>0.87</td>\n",
       "      <td>0.72</td>\n",
       "      <td>0.42</td>\n",
       "      <td>0.20</td>\n",
       "      <td>0.01</td>\n",
       "    </tr>\n",
       "  </tbody>\n",
       "</table>\n",
       "</div>"
      ],
      "text/plain": [
       "   t    u1    u2    u3    u4    u5    u6    u7    u8    u9   u10   u11   u12\n",
       "0  0  0.09  0.12  0.12  0.13  0.13  0.13  0.15  0.15  0.15  0.13  0.02  0.01\n",
       "1  2  0.24  0.35  0.37  0.39  0.38  0.39  0.40  0.39  0.36  0.25  0.16  0.01\n",
       "2  4  0.32  0.50  0.56  0.60  0.60  0.60  0.62  0.57  0.50  0.32  0.18  0.01\n",
       "3  6  0.38  0.64  0.74  0.80  0.80  0.81  0.81  0.73  0.62  0.37  0.19  0.01\n",
       "4  8  0.42  0.74  0.88  0.98  0.99  0.99  0.99  0.87  0.72  0.42  0.20  0.01"
      ]
     },
     "execution_count": 2,
     "metadata": {},
     "output_type": "execute_result"
    }
   ],
   "source": [
    "# read in the test data (voltages of thermocouples)\n",
    "# header u1-u10 thermocouples along the winding bar; \n",
    "# u11 - a thermocouple on a bar emersed in water\n",
    "# u12 - a thermocouple in the water \n",
    "header = ['t', 'u1', 'u2', 'u3', 'u4', 'u5', 'u6', 'u7', 'u8', 'u9', 'u10', 'u11', 'u12']\n",
    "df = pd.read_csv('pomiary.txt', sep='\\t', header=None, names=header)\n",
    "df.head()"
   ]
  },
  {
   "cell_type": "code",
   "execution_count": 3,
   "metadata": {
    "collapsed": true
   },
   "outputs": [],
   "source": [
    "# definition of thermocouple function\n",
    "def getTemp(u):\n",
    "    # coefficient a [degC/mV]\n",
    "    a = 24\n",
    "    return a*u + 19"
   ]
  },
  {
   "cell_type": "code",
   "execution_count": 4,
   "metadata": {},
   "outputs": [
    {
     "data": {
      "text/html": [
       "<div>\n",
       "<table border=\"1\" class=\"dataframe\">\n",
       "  <thead>\n",
       "    <tr style=\"text-align: right;\">\n",
       "      <th></th>\n",
       "      <th>T1</th>\n",
       "      <th>T2</th>\n",
       "      <th>T3</th>\n",
       "      <th>T4</th>\n",
       "      <th>T5</th>\n",
       "      <th>T6</th>\n",
       "      <th>T7</th>\n",
       "      <th>T8</th>\n",
       "      <th>T9</th>\n",
       "      <th>T10</th>\n",
       "      <th>T11</th>\n",
       "      <th>T12</th>\n",
       "    </tr>\n",
       "  </thead>\n",
       "  <tbody>\n",
       "    <tr>\n",
       "      <th>0</th>\n",
       "      <td>21.16</td>\n",
       "      <td>21.88</td>\n",
       "      <td>21.88</td>\n",
       "      <td>22.12</td>\n",
       "      <td>22.12</td>\n",
       "      <td>22.12</td>\n",
       "      <td>22.60</td>\n",
       "      <td>22.60</td>\n",
       "      <td>22.60</td>\n",
       "      <td>22.12</td>\n",
       "      <td>19.48</td>\n",
       "      <td>19.24</td>\n",
       "    </tr>\n",
       "    <tr>\n",
       "      <th>1</th>\n",
       "      <td>24.76</td>\n",
       "      <td>27.40</td>\n",
       "      <td>27.88</td>\n",
       "      <td>28.36</td>\n",
       "      <td>28.12</td>\n",
       "      <td>28.36</td>\n",
       "      <td>28.60</td>\n",
       "      <td>28.36</td>\n",
       "      <td>27.64</td>\n",
       "      <td>25.00</td>\n",
       "      <td>22.84</td>\n",
       "      <td>19.24</td>\n",
       "    </tr>\n",
       "    <tr>\n",
       "      <th>2</th>\n",
       "      <td>26.68</td>\n",
       "      <td>31.00</td>\n",
       "      <td>32.44</td>\n",
       "      <td>33.40</td>\n",
       "      <td>33.40</td>\n",
       "      <td>33.40</td>\n",
       "      <td>33.88</td>\n",
       "      <td>32.68</td>\n",
       "      <td>31.00</td>\n",
       "      <td>26.68</td>\n",
       "      <td>23.32</td>\n",
       "      <td>19.24</td>\n",
       "    </tr>\n",
       "    <tr>\n",
       "      <th>3</th>\n",
       "      <td>28.12</td>\n",
       "      <td>34.36</td>\n",
       "      <td>36.76</td>\n",
       "      <td>38.20</td>\n",
       "      <td>38.20</td>\n",
       "      <td>38.44</td>\n",
       "      <td>38.44</td>\n",
       "      <td>36.52</td>\n",
       "      <td>33.88</td>\n",
       "      <td>27.88</td>\n",
       "      <td>23.56</td>\n",
       "      <td>19.24</td>\n",
       "    </tr>\n",
       "    <tr>\n",
       "      <th>4</th>\n",
       "      <td>29.08</td>\n",
       "      <td>36.76</td>\n",
       "      <td>40.12</td>\n",
       "      <td>42.52</td>\n",
       "      <td>42.76</td>\n",
       "      <td>42.76</td>\n",
       "      <td>42.76</td>\n",
       "      <td>39.88</td>\n",
       "      <td>36.28</td>\n",
       "      <td>29.08</td>\n",
       "      <td>23.80</td>\n",
       "      <td>19.24</td>\n",
       "    </tr>\n",
       "  </tbody>\n",
       "</table>\n",
       "</div>"
      ],
      "text/plain": [
       "      T1     T2     T3     T4     T5     T6     T7     T8     T9    T10  \\\n",
       "0  21.16  21.88  21.88  22.12  22.12  22.12  22.60  22.60  22.60  22.12   \n",
       "1  24.76  27.40  27.88  28.36  28.12  28.36  28.60  28.36  27.64  25.00   \n",
       "2  26.68  31.00  32.44  33.40  33.40  33.40  33.88  32.68  31.00  26.68   \n",
       "3  28.12  34.36  36.76  38.20  38.20  38.44  38.44  36.52  33.88  27.88   \n",
       "4  29.08  36.76  40.12  42.52  42.76  42.76  42.76  39.88  36.28  29.08   \n",
       "\n",
       "     T11    T12  \n",
       "0  19.48  19.24  \n",
       "1  22.84  19.24  \n",
       "2  23.32  19.24  \n",
       "3  23.56  19.24  \n",
       "4  23.80  19.24  "
      ]
     },
     "execution_count": 4,
     "metadata": {},
     "output_type": "execute_result"
    }
   ],
   "source": [
    "t = df['t']\n",
    "dfT = df.iloc[:,1:13].apply(getTemp)\n",
    "header = ['T1', 'T2', 'T3', 'T4', 'T5', 'T6', 'T7', 'T8', 'T9', 'T10', 'T11', 'T12']\n",
    "dfT.columns = header\n",
    "dfT.head()"
   ]
  },
  {
   "cell_type": "code",
   "execution_count": 5,
   "metadata": {},
   "outputs": [
    {
     "data": {
      "image/png": "[encoded data removed]",
      "text/plain": [
       "<matplotlib.figure.Figure at 0x1120a5278>"
      ]
     },
     "metadata": {},
     "output_type": "display_data"
    }
   ],
   "source": [
    "plt.figure(figsize=(10,5))\n",
    "for k in dfT.columns:\n",
    "    plt.plot(t, dfT[k], label=k)\n",
    "plt.xlabel('Time [min]')\n",
    "plt.ylabel('Temperature [degC]')\n",
    "plt.legend();"
   ]
  },
  {
   "cell_type": "code",
   "execution_count": 6,
   "metadata": {},
   "outputs": [
    {
     "data": {
      "text/plain": [
       "T1     34.60\n",
       "T2     52.36\n",
       "T3     63.16\n",
       "T4     71.08\n",
       "T5     73.24\n",
       "T6     73.24\n",
       "T7     70.36\n",
       "T8     60.52\n",
       "T9     50.20\n",
       "T10    34.12\n",
       "T11    24.04\n",
       "T12    20.92\n",
       "dtype: float64"
      ]
     },
     "execution_count": 6,
     "metadata": {},
     "output_type": "execute_result"
    }
   ],
   "source": [
    "# max temperatures by thermocouples\n",
    "dfT.max()"
   ]
  },
  {
   "cell_type": "code",
   "execution_count": 7,
   "metadata": {},
   "outputs": [
    {
     "data": {
      "text/plain": [
       "73.239999999999995"
      ]
     },
     "execution_count": 7,
     "metadata": {},
     "output_type": "execute_result"
    }
   ],
   "source": [
    "# max winding temperature\n",
    "max(dfT.max())"
   ]
  },
  {
   "cell_type": "code",
   "execution_count": null,
   "metadata": {
    "collapsed": true
   },
   "outputs": [],
   "source": []
  }
 ],
 "metadata": {
  "kernelspec": {
   "display_name": "Python 3",
   "language": "python",
   "name": "python3"
  },
  "language_info": {
   "codemirror_mode": {
    "name": "ipython",
    "version": 3
   },
   "file_extension": ".py",
   "mimetype": "text/x-python",
   "name": "python",
   "nbconvert_exporter": "python",
   "pygments_lexer": "ipython3",
   "version": "3.6.0"
  }
 },
 "nbformat": 4,
 "nbformat_minor": 2
}
