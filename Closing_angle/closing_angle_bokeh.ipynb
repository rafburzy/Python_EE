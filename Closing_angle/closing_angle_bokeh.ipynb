{
 "cells": [
  {
   "cell_type": "code",
   "execution_count": 1,
   "metadata": {
    "collapsed": true
   },
   "outputs": [],
   "source": [
    "#importing all required modules\n",
    "#important otherwise pop-up window may not work\n",
    "import numpy as np\n",
    "import scipy as sp\n",
    "from math import *\n",
    "\n",
    "\n",
    "#bokeh\n",
    "from bokeh.plotting import figure, output_file, output_notebook, show\n",
    "from bokeh.io import vform\n",
    "from bokeh.models import CustomJS, ColumnDataSource, Slider"
   ]
  },
  {
   "cell_type": "code",
   "execution_count": 2,
   "metadata": {
    "collapsed": false
   },
   "outputs": [],
   "source": [
    "# RMS value of voltage\n",
    "u = 230 \n",
    "\n",
    "#time vector\n",
    "t = np.linspace(0,0.08, 100)\n",
    "\n",
    "#frequency & angular frequency\n",
    "f = 50\n",
    "omega = 2 * pi * f\n",
    "\n",
    "#Resitance\n",
    "R = 5\n",
    "\n",
    "#Inductance\n",
    "L = 0.1\n",
    "XL = 2*pi*f*L\n",
    "\n",
    "#Phase angle\n",
    "phi=atan(XL/R)\n",
    "\n",
    "#closing angle [rad]\n",
    "alpha = 0\n",
    "\n",
    "#Phase A\n",
    "#Current response\n",
    "ia = [(sqrt(2)*u/(sqrt(R**2+XL**2))*(sin(omega*k+alpha-phi)-sin(alpha-phi)*exp(-R/L*k))) for k in t]\n",
    "\n",
    "#DC component of the current\n",
    "iadc = [(sqrt(2)*u/(sqrt(R**2+XL**2))*-sin(alpha-phi)*(exp(-R/L*k))) for k in t]\n",
    "\n",
    "#AC steady state current\n",
    "iau = [(sqrt(2)*u/(sqrt(R**2+XL**2))*sin(omega*k+alpha-phi)) for k in t]\n",
    "\n",
    "#Plotting part\n",
    "\n",
    "output_file(\"closing_angle.html\")\n",
    "\n",
    "source = ColumnDataSource(data=dict(t=t,ia=ia,iadc=iadc,iau=iau))\n",
    "\n",
    "plot = figure(plot_width=600, plot_height=400)\n",
    "plot.line('t', 'ia', source=source, line_width=3, line_alpha=0.6)\n",
    "plot.line('t', 'iadc', source=source, line_width=2, line_alpha=0.6, color=\"orange\")\n",
    "plot.line('t', 'iau', source=source, line_width=2, line_alpha=0.6, color=\"green\")\n",
    "\n",
    "#the most difficult part callback\n",
    "\n",
    "callback = CustomJS(args=dict(source=source), code=\"\"\"\n",
    "\n",
    "\n",
    "\"\"\")\n",
    "\n",
    "slider1 = Slider(start=100, end=400, value=230, step=10, title=\"Voltage\")\n",
    "slider2 = Slider(start=0, end=phi, value=0, step=.1, title=\"Closing angle\")\n",
    "\n",
    "layout = vform(slider1, slider2, plot)\n",
    "\n",
    "show(layout)\n"
   ]
  },
  {
   "cell_type": "code",
   "execution_count": null,
   "metadata": {
    "collapsed": true
   },
   "outputs": [],
   "source": []
  }
 ],
 "metadata": {
  "kernelspec": {
   "display_name": "Python 3",
   "language": "python",
   "name": "python3"
  },
  "language_info": {
   "codemirror_mode": {
    "name": "ipython",
    "version": 3
   },
   "file_extension": ".py",
   "mimetype": "text/x-python",
   "name": "python",
   "nbconvert_exporter": "python",
   "pygments_lexer": "ipython3",
   "version": "3.5.1"
  }
 },
 "nbformat": 4,
 "nbformat_minor": 0
}
