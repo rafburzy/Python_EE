{
 "cells": [
  {
   "cell_type": "markdown",
   "metadata": {},
   "source": [
    "# Solving for current in R-L circuit"
   ]
  },
  {
   "cell_type": "code",
   "execution_count": 44,
   "metadata": {
    "collapsed": true
   },
   "outputs": [],
   "source": [
    "#importing all required modules\n",
    "#important otherwise pop-up window may not work\n",
    "%matplotlib inline \n",
    "import numpy as np\n",
    "import scipy as sp\n",
    "from scipy.integrate import odeint, ode\n",
    "import matplotlib as mpl\n",
    "import matplotlib.pyplot as plt\n",
    "from math import *\n",
    "import seaborn\n",
    "\n",
    "#bokeh\n",
    "from bokeh.plotting import figure, output_file, output_notebook, show"
   ]
  },
  {
   "cell_type": "markdown",
   "metadata": {},
   "source": [
    "Auxiliary variables definition"
   ]
  },
  {
   "cell_type": "code",
   "execution_count": 45,
   "metadata": {
    "collapsed": true
   },
   "outputs": [],
   "source": [
    "# RMS value of voltage\n",
    "u = 230 \n",
    "\n",
    "#time vector\n",
    "t = np.linspace(0,0.08, 100)\n",
    "\n",
    "#frequency & angular frequency\n",
    "f = 50\n",
    "omega = 2 * pi * f\n",
    "\n",
    "#Resitance\n",
    "R = 5\n",
    "\n",
    "#Inductance\n",
    "L = 0.1\n",
    "XL = 2*pi*f*L\n",
    "\n",
    "#Phase angle\n",
    "phi=atan(XL/R)\n",
    "\n",
    "#closing angle [rad]\n",
    "alpha = 0"
   ]
  },
  {
   "cell_type": "markdown",
   "metadata": {},
   "source": [
    "Definition of voltage"
   ]
  },
  {
   "cell_type": "code",
   "execution_count": 46,
   "metadata": {
    "collapsed": true
   },
   "outputs": [],
   "source": [
    "ua = [sqrt(2)*u*sin(omega*k + alpha) for k in t]"
   ]
  },
  {
   "cell_type": "code",
   "execution_count": 48,
   "metadata": {
    "collapsed": true
   },
   "outputs": [],
   "source": [
    "def di(x,t):\n",
    "    #for this function i = p\n",
    "    #initial condition\n",
    "    p = x[0]\n",
    "    #di function\n",
    "    dp = 1/L*(sqrt(2)*u*sin(omega*t + alpha) - R*p)\n",
    "    \n",
    "    return dp"
   ]
  },
  {
   "cell_type": "code",
   "execution_count": 49,
   "metadata": {
    "collapsed": true
   },
   "outputs": [],
   "source": [
    "#initial state\n",
    "x0 = 0"
   ]
  },
  {
   "cell_type": "code",
   "execution_count": 50,
   "metadata": {
    "collapsed": false
   },
   "outputs": [],
   "source": [
    "ia = odeint(di, x0, t)"
   ]
  },
  {
   "cell_type": "code",
   "execution_count": 52,
   "metadata": {
    "collapsed": false
   },
   "outputs": [
    {
     "data": {
      "text/plain": [
       "<matplotlib.legend.Legend at 0x201474e0>"
      ]
     },
     "execution_count": 52,
     "metadata": {},
     "output_type": "execute_result"
    },
    {
     "data": {
      "image/png": "[encoded data removed]",
      "text/plain": [
       "<matplotlib.figure.Figure at 0x22363e48>"
      ]
     },
     "metadata": {},
     "output_type": "display_data"
    }
   ],
   "source": [
    "fig, ax = plt.subplots()\n",
    "\n",
    "ax.plot(t,ia, label=\"Current\")\n",
    "ax.set_ylabel(\"Current [A]\")\n",
    "ax.set_xlabel(\"Time [s]\")\n",
    "ax.set_title(\"Current in R-L circuit during switch-on\")\n",
    "ax.legend()"
   ]
  },
  {
   "cell_type": "code",
   "execution_count": null,
   "metadata": {
    "collapsed": true
   },
   "outputs": [],
   "source": []
  }
 ],
 "metadata": {
  "kernelspec": {
   "display_name": "Python 2",
   "language": "python",
   "name": "python2"
  },
  "language_info": {
   "codemirror_mode": {
    "name": "ipython",
    "version": 2
   },
   "file_extension": ".py",
   "mimetype": "text/x-python",
   "name": "python",
   "nbconvert_exporter": "python",
   "pygments_lexer": "ipython2",
   "version": "2.7.9"
  }
 },
 "nbformat": 4,
 "nbformat_minor": 0
}
