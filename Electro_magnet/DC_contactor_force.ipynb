{
 "cells": [
  {
   "cell_type": "markdown",
   "metadata": {},
   "source": [
    "## Force of a contactor\n",
    "#### Current fed case == DC Contactor"
   ]
  },
  {
   "cell_type": "code",
   "execution_count": 1,
   "metadata": {},
   "outputs": [],
   "source": [
    "import numpy as np\n",
    "import matplotlib.pyplot as plt\n",
    "%matplotlib inline\n",
    "\n",
    "plt.style.use('ggplot')"
   ]
  },
  {
   "cell_type": "code",
   "execution_count": 16,
   "metadata": {},
   "outputs": [],
   "source": [
    "# Concactor data\n",
    "\n",
    "# number of turns\n",
    "n = 2\n",
    "\n",
    "# current [A]\n",
    "I = 1000\n",
    "\n",
    "# air gap [m]\n",
    "delta = 5/1000\n",
    "\n",
    "# length of the core [m]\n",
    "lav = (200+2*150)/1000\n",
    "\n",
    "# length of a moveable part of the core [m]\n",
    "lz = 200/1000\n",
    "\n",
    "# core cross-section [m2]\n",
    "S = 50/1000 * 50/1000\n",
    "\n",
    "# moveable part cross-section\n",
    "Sz = S\n",
    "\n",
    "# air gap cross-section\n",
    "Sdelta = S\n",
    "\n",
    "# megnetic permability of vaccum [H/m]\n",
    "mi_o = 4*np.pi*1e-7\n",
    "\n",
    "# magnetic perability of the core\n",
    "mi_r = 100"
   ]
  },
  {
   "cell_type": "code",
   "execution_count": 17,
   "metadata": {},
   "outputs": [
    {
     "name": "stdout",
     "output_type": "stream",
     "text": [
      "Permeance of the core: 6.283185307179588e-07 [H]\n",
      "Permeance of the moveable part of the core: 1.5707963267948969e-06 [H]\n",
      "Permeance of the air gaps: 3.141592653589793e-07 [H]\n"
     ]
    }
   ],
   "source": [
    "# magnetic permeance\n",
    "\n",
    "# core\n",
    "Ac = mi_o*mi_r*S / lav\n",
    "\n",
    "# movable part of the core\n",
    "Az = mi_o*mi_r*Sz / lz\n",
    "\n",
    "# of two air gaps\n",
    "Adelta = mi_o*Sdelta / (2*delta)\n",
    "\n",
    "print(\"Permeance of the core: {} [H]\".format(Ac))\n",
    "print(\"Permeance of the moveable part of the core: {} [H]\".format(Az))\n",
    "print(\"Permeance of the air gaps: {} [H]\".format(Adelta))"
   ]
  },
  {
   "cell_type": "code",
   "execution_count": 18,
   "metadata": {},
   "outputs": [
    {
     "data": {
      "text/plain": [
       "1.0053096491487338e-05"
      ]
     },
     "execution_count": 18,
     "metadata": {},
     "output_type": "execute_result"
    }
   ],
   "source": [
    "# inductance \n",
    "L = n**2 * (Ac + Az + Adelta)\n",
    "L"
   ]
  },
  {
   "cell_type": "code",
   "execution_count": 19,
   "metadata": {},
   "outputs": [
    {
     "data": {
      "text/plain": [
       "125.66370614359172"
      ]
     },
     "execution_count": 19,
     "metadata": {},
     "output_type": "execute_result"
    }
   ],
   "source": [
    "# force acting on the moveable part of the core\n",
    "F = 1/4 * (I*n)**2 * mi_o*Sdelta/(delta**2)\n",
    "F"
   ]
  },
  {
   "cell_type": "code",
   "execution_count": 20,
   "metadata": {},
   "outputs": [
    {
     "data": {
      "image/png": "[encoded data removed]",
      "text/plain": [
       "<matplotlib.figure.Figure at 0x11d4dc240>"
      ]
     },
     "metadata": {},
     "output_type": "display_data"
    }
   ],
   "source": [
    "# range of gap change\n",
    "x = np.linspace(0.5/1000, 5/1000, 30)\n",
    "Fe = 1/4 * (I*n)**2 * mi_o*Sdelta/(x**2)\n",
    "\n",
    "plt.plot(x*1000, Fe/1000)\n",
    "plt.xlabel('Gap [mm]')\n",
    "plt.ylabel('Force [kN]');"
   ]
  },
  {
   "cell_type": "code",
   "execution_count": null,
   "metadata": {},
   "outputs": [],
   "source": []
  }
 ],
 "metadata": {
  "kernelspec": {
   "display_name": "Python 3",
   "language": "python",
   "name": "python3"
  },
  "language_info": {
   "codemirror_mode": {
    "name": "ipython",
    "version": 3
   },
   "file_extension": ".py",
   "mimetype": "text/x-python",
   "name": "python",
   "nbconvert_exporter": "python",
   "pygments_lexer": "ipython3",
   "version": "3.6.4"
  }
 },
 "nbformat": 4,
 "nbformat_minor": 2
}
