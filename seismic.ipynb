#importing the required modules
%matplotlib inline
import numpy as np
import matplotlib.pyplot as plt
import random
from math import pi, sin, log

#time and frequency vectors
t = np.arange(0, 30, 0.01)
f = np.arange(2, 45, 2**(1.0/6.0)) #frequency change by 1/6 octave

#Aux variables definition
ZPA = 0.4
A = np.empty(len(f))
fi = np.empty(len(f))

#Amplitudes
for k in range(len(f)):
    A[k] = random.random()*ZPA
    
#Random angle
for k in range(len(f)):
    fi[k] = random.random()*pi/2
    
a = np.empty(len(t))

for l in range(len(t)):
    r = 0
    for b in range(len(f)):
        r = r + A[b]*sin(2*pi*f[b]*t[l]+fi[b])
    a[l] = r
    
